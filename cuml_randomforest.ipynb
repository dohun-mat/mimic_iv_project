{
 "cells": [
  {
   "cell_type": "code",
   "execution_count": 2,
   "metadata": {},
   "outputs": [
    {
     "name": "stdout",
     "output_type": "stream",
     "text": [
      "/data/dhk/physionet.org/files/mimiciv/2.2/hosp\n"
     ]
    }
   ],
   "source": [
    "import pandas as pd\n",
    "import cudf\n",
    "from sklearn.preprocessing import LabelEncoder\n",
    "from sklearn.preprocessing import RobustScaler\n",
    "\n",
    "%cd /data/dhk/physionet.org/files/mimiciv/2.2/hosp"
   ]
  },
  {
   "cell_type": "markdown",
   "metadata": {},
   "source": [
    "# 작업디렉토리 설정"
   ]
  },
  {
   "cell_type": "code",
   "execution_count": null,
   "metadata": {},
   "outputs": [],
   "source": [
    "# %cd C:\\mimic-iv-2.2\\mimic-iv-2.2\\hosp"
   ]
  },
  {
   "cell_type": "code",
   "execution_count": null,
   "metadata": {},
   "outputs": [],
   "source": [
    "%cd /data/dhk/physionet.org/files/mimiciv/2.2/hosp"
   ]
  },
  {
   "cell_type": "markdown",
   "metadata": {},
   "source": [
    "# d_icd_diagnoses파일"
   ]
  },
  {
   "cell_type": "code",
   "execution_count": null,
   "metadata": {},
   "outputs": [],
   "source": [
    "df_d_icd_diagnoses = pd.read_csv('d_icd_diagnoses.csv')\n",
    "df_d_icd_diagnoses.head()"
   ]
  },
  {
   "cell_type": "markdown",
   "metadata": {},
   "source": [
    "# diagnoses_icd파일"
   ]
  },
  {
   "cell_type": "code",
   "execution_count": null,
   "metadata": {},
   "outputs": [],
   "source": [
    "df_diagnoses_icd = pd.read_csv(\"diagnoses_icd.csv\")\n",
    "df_diagnoses_icd.head()"
   ]
  },
  {
   "cell_type": "markdown",
   "metadata": {},
   "source": [
    "# 고혈압&암환자"
   ]
  },
  {
   "cell_type": "code",
   "execution_count": null,
   "metadata": {
    "scrolled": false
   },
   "outputs": [],
   "source": [
    "# 고혈압 진단 코드 정규식\n",
    "high_bp_regex = r'^I1[0-5]$|^401'\n",
    "\n",
    "#암 진단 코드 정규식  \n",
    "#ICD-9 코드 분류 (140-239)\n",
    "#ICD-10 코드 분류 (C00-C96, D00-D09)\n",
    "cancer_regex = r'^(D(0[0-9])|C([0-8][0-9]|9[0-6])|(1[4-9][0-9]|2[0-3][0-9])).*'\n",
    "\n",
    "\n",
    "# 암 진단 코드 추출\n",
    "cancer_df = df_diagnoses_icd[df_diagnoses_icd['icd_code'].str.match(cancer_regex)]\n",
    "\n",
    "# 암 진단을 받은 환자 ID 추출\n",
    "cancer_patient_ids = cancer_df['subject_id'].unique()\n",
    "\n",
    "# 암 진단을 받은 환자들의 데이터 추출\n",
    "cancer_diagnoses_merged = pd.merge(df_diagnoses_icd, df_d_icd_diagnoses, on=['icd_code'])\n",
    "cancer_patients_data = cancer_diagnoses_merged[cancer_diagnoses_merged['subject_id'].isin(cancer_patient_ids)]\n",
    "\n",
    "\n",
    "\n",
    "# 암 및 고혈압을 동시에 가진 환자들의 데이터 추출 (첫 번째 진단만 포함)\n",
    "cancer_high_bp_ids = cancer_patients_data[cancer_patients_data['icd_code'].str.match(high_bp_regex)]['subject_id'].unique()\n",
    "cancer_high_bp_df = cancer_diagnoses_merged[(cancer_diagnoses_merged['subject_id'].isin(cancer_high_bp_ids)) & \n",
    "                                            (cancer_diagnoses_merged['seq_num'] == 1) & \n",
    "                                            (cancer_diagnoses_merged['icd_code'].str.match(cancer_regex))]\n",
    "\n",
    "cancer_high_bp_df"
   ]
  },
  {
   "cell_type": "markdown",
   "metadata": {},
   "source": [
    "# 첫입원기록만 가져옴"
   ]
  },
  {
   "cell_type": "code",
   "execution_count": null,
   "metadata": {},
   "outputs": [],
   "source": [
    "# subject_id로 그룹화하고 각 그룹에서 hadm_id가 가장 작은 행 선택\n",
    "result = cancer_high_bp_df.loc[cancer_high_bp_df.groupby('subject_id')['hadm_id'].idxmin()]\n",
    "\n",
    "# 필요시 인덱스 리셋\n",
    "result.reset_index(drop=True, inplace=True)\n",
    "result"
   ]
  },
  {
   "cell_type": "markdown",
   "metadata": {},
   "source": [
    "# patients파일"
   ]
  },
  {
   "cell_type": "code",
   "execution_count": null,
   "metadata": {},
   "outputs": [],
   "source": [
    "df_patients = pd.read_csv(\"patients.csv\")\n",
    "df_patients.head(3)"
   ]
  },
  {
   "cell_type": "markdown",
   "metadata": {},
   "source": [
    "# result와 patients 병합"
   ]
  },
  {
   "cell_type": "code",
   "execution_count": null,
   "metadata": {},
   "outputs": [],
   "source": [
    "merge2 = pd.merge(result,df_patients, on=['subject_id'])\n",
    "merge2"
   ]
  },
  {
   "cell_type": "markdown",
   "metadata": {},
   "source": [
    "# 환자나이 계산하기 위해 merge"
   ]
  },
  {
   "cell_type": "code",
   "execution_count": null,
   "metadata": {},
   "outputs": [],
   "source": [
    "df_admission = pd.read_csv(\"admissions.csv\")\n",
    "merge2_admission = pd.merge(merge2,df_admission, on=['subject_id','hadm_id'])\n",
    "merge2_admission"
   ]
  },
  {
   "cell_type": "markdown",
   "metadata": {},
   "source": [
    "# 입원시점에서 환자나이 계산"
   ]
  },
  {
   "cell_type": "code",
   "execution_count": null,
   "metadata": {
    "scrolled": true
   },
   "outputs": [],
   "source": [
    "# 출생 연도 계산\n",
    "print(merge2_admission[['anchor_year','anchor_age']].head(5))\n",
    "print(\"~~\")\n",
    "\n",
    "##adgmit_age가 이상한 경우\n",
    "#  환자의 나이가 89세 이상인 경우, 데이터 보호를 위해 모든 연령이 89세로 고정되어 있다는 것입니다.\n",
    "merge2_admission = merge2_admission[merge2_admission['anchor_age']<89]\n",
    "\n",
    "# admittime 열을 datetime 형식으로 변환\n",
    "merge2_admission['birth_year'] = merge2_admission['anchor_year'] - merge2_admission['anchor_age']\n",
    "\n",
    "# 입원 연도 추출\n",
    "admit_year = pd.to_datetime(merge2_admission['admittime']).dt.year\n",
    "\n",
    "# 입원 시점의 나이 계산\n",
    "merge2_admission['admit_age'] = admit_year - merge2_admission['birth_year']\n",
    "\n",
    "#인덱스 초기화\n",
    "merge2_admission.reset_index(drop=True, inplace=True)\n",
    "\n",
    "#결과확인\n",
    "print(merge2_admission[['subject_id', 'admittime', 'admit_age','birth_year','anchor_year','anchor_age']].head())"
   ]
  },
  {
   "cell_type": "markdown",
   "metadata": {},
   "source": [
    "# 예측했을때 써야할 피쳐들만 가지고왔는데 의논이 필요한듯"
   ]
  },
  {
   "cell_type": "code",
   "execution_count": null,
   "metadata": {},
   "outputs": [],
   "source": [
    "merge2_admission = merge2_admission[['subject_id','hadm_id','admit_age','seq_num','gender','dod','deathtime','insurance','language','marital_status','race','hospital_expire_flag','birth_year',]]\n",
    "merge2_admission"
   ]
  },
  {
   "cell_type": "markdown",
   "metadata": {},
   "source": [
    "# death비율과 death하지 않은비율"
   ]
  },
  {
   "cell_type": "code",
   "execution_count": null,
   "metadata": {},
   "outputs": [],
   "source": [
    "merge2_admission['hospital_expire_flag'].value_counts()"
   ]
  },
  {
   "cell_type": "markdown",
   "metadata": {},
   "source": [
    "# death 종양환자 평균나이 비교"
   ]
  },
  {
   "cell_type": "code",
   "execution_count": null,
   "metadata": {},
   "outputs": [],
   "source": [
    "print(f\"종양환자의 평균나이 :{ merge2_admission['admit_age'].mean() }\")\n",
    "\n",
    "C_death = merge2_admission[merge2_admission['hospital_expire_flag']==1]\n",
    "C_death_mean_age = C_death['admit_age'].mean()\n",
    "print(f\"death한 종양환자의 평균나이 :{C_death_mean_age}\")\n",
    "\n",
    "C_not_death = merge2_admission[merge2_admission['hospital_expire_flag']== 0]\n",
    "C_not_death_mean_age = C_not_death['admit_age'].mean()\n",
    "print(f\"death하지않은 종양환자의 평균나이 :{C_not_death_mean_age}\")"
   ]
  },
  {
   "cell_type": "markdown",
   "metadata": {},
   "source": [
    "# omr(환자 몸무게 혈압 등등) merge"
   ]
  },
  {
   "cell_type": "code",
   "execution_count": null,
   "metadata": {},
   "outputs": [],
   "source": [
    "omr = pd.read_csv(\"omr.csv\")\n",
    "# omr\n",
    "merge3_omr = pd.merge(merge2_admission,omr, on=['subject_id'])\n",
    "merge3_omr"
   ]
  },
  {
   "cell_type": "markdown",
   "metadata": {},
   "source": [
    "# pharmacy(환자 약물 처방 및 투약 내역) merge"
   ]
  },
  {
   "cell_type": "code",
   "execution_count": null,
   "metadata": {},
   "outputs": [],
   "source": [
    "pharmacy = pd.read_csv(\"pharmacy.csv\")\n",
    "pharmacy = pharmacy[['subject_id', 'hadm_id','poe_id','medication','frequency','doses_per_24_hrs']]\n",
    "# pharmacy\n",
    "merge4_pharmacy = pd.merge(merge3_omr,pharmacy, on=['subject_id','hadm_id'])\n",
    "merge4_pharmacy"
   ]
  },
  {
   "cell_type": "markdown",
   "metadata": {},
   "source": [
    "# prescriptions(약물 처방 기록) merge"
   ]
  },
  {
   "cell_type": "code",
   "execution_count": null,
   "metadata": {},
   "outputs": [],
   "source": [
    "prescriptions = pd.read_csv(\"prescriptions.csv\")\n",
    "prescriptions = prescriptions[['subject_id', 'hadm_id','poe_id','drug','dose_val_rx','form_unit_disp','doses_per_24_hrs']]\n",
    "merge5_prescriptions = pd.merge(merge4_pharmacy,prescriptions, on=['subject_id','hadm_id','poe_id'])\n",
    "merge5_prescriptions"
   ]
  },
  {
   "cell_type": "markdown",
   "metadata": {},
   "source": [
    "# 전처리한 csv파일 저장"
   ]
  },
  {
   "cell_type": "code",
   "execution_count": null,
   "metadata": {},
   "outputs": [],
   "source": [
    "# merge5_prescriptions.to_csv('machine_dohun.csv', index=False)"
   ]
  },
  {
   "cell_type": "markdown",
   "metadata": {},
   "source": [
    "# csv파일 불러오기"
   ]
  },
  {
   "cell_type": "code",
   "execution_count": 3,
   "metadata": {},
   "outputs": [
    {
     "name": "stderr",
     "output_type": "stream",
     "text": [
      "/tmp/ipykernel_444848/1392112362.py:1: DtypeWarning: Columns (5,6,9,17,18,19,22) have mixed types. Specify dtype option on import or set low_memory=False.\n",
      "  dh = pd.read_csv(\"machine_dohun.csv\")\n"
     ]
    }
   ],
   "source": [
    "dh = pd.read_csv(\"machine_dohun.csv\")\n",
    "# dh = dh.to_pandas()"
   ]
  },
  {
   "cell_type": "markdown",
   "metadata": {},
   "source": [
    "# 머신러닝에 내가 쓸 칼럼만 사용"
   ]
  },
  {
   "cell_type": "code",
   "execution_count": 4,
   "metadata": {},
   "outputs": [],
   "source": [
    "dh = dh[['subject_id', 'hadm_id', 'admit_age', 'gender','insurance', 'language', 'marital_status', 'race',\n",
    "       'hospital_expire_flag', 'medication', 'frequency','drug']]"
   ]
  },
  {
   "cell_type": "markdown",
   "metadata": {},
   "source": [
    "# marital_status칼럼 NaN값 핸들링"
   ]
  },
  {
   "cell_type": "code",
   "execution_count": 5,
   "metadata": {},
   "outputs": [
    {
     "name": "stderr",
     "output_type": "stream",
     "text": [
      "/tmp/ipykernel_444848/3211302447.py:1: FutureWarning: A value is trying to be set on a copy of a DataFrame or Series through chained assignment using an inplace method.\n",
      "The behavior will change in pandas 3.0. This inplace method will never work because the intermediate object on which we are setting values always behaves as a copy.\n",
      "\n",
      "For example, when doing 'df[col].method(value, inplace=True)', try using 'df.method({col: value}, inplace=True)' or df[col] = df[col].method(value) instead, to perform the operation inplace on the original object.\n",
      "\n",
      "\n",
      "  dh['marital_status'].fillna('Unknown', inplace=True)\n"
     ]
    }
   ],
   "source": [
    "dh['marital_status'].fillna('Unknown', inplace=True)"
   ]
  },
  {
   "cell_type": "markdown",
   "metadata": {},
   "source": [
    "# medication 칼럼 NaN값 핸들링"
   ]
  },
  {
   "cell_type": "code",
   "execution_count": 6,
   "metadata": {},
   "outputs": [
    {
     "name": "stderr",
     "output_type": "stream",
     "text": [
      "/tmp/ipykernel_444848/2179704666.py:1: FutureWarning: A value is trying to be set on a copy of a DataFrame or Series through chained assignment using an inplace method.\n",
      "The behavior will change in pandas 3.0. This inplace method will never work because the intermediate object on which we are setting values always behaves as a copy.\n",
      "\n",
      "For example, when doing 'df[col].method(value, inplace=True)', try using 'df.method({col: value}, inplace=True)' or df[col] = df[col].method(value) instead, to perform the operation inplace on the original object.\n",
      "\n",
      "\n",
      "  dh['medication'].fillna('Unknown', inplace=True)\n"
     ]
    }
   ],
   "source": [
    "dh['medication'].fillna('Unknown', inplace=True)"
   ]
  },
  {
   "cell_type": "markdown",
   "metadata": {},
   "source": [
    "# frequency 칼럼 NaN값 핸들링"
   ]
  },
  {
   "cell_type": "code",
   "execution_count": 7,
   "metadata": {},
   "outputs": [
    {
     "name": "stderr",
     "output_type": "stream",
     "text": [
      "/tmp/ipykernel_444848/1893148919.py:1: FutureWarning: A value is trying to be set on a copy of a DataFrame or Series through chained assignment using an inplace method.\n",
      "The behavior will change in pandas 3.0. This inplace method will never work because the intermediate object on which we are setting values always behaves as a copy.\n",
      "\n",
      "For example, when doing 'df[col].method(value, inplace=True)', try using 'df.method({col: value}, inplace=True)' or df[col] = df[col].method(value) instead, to perform the operation inplace on the original object.\n",
      "\n",
      "\n",
      "  dh['frequency'].fillna('Unknown', inplace=True)\n"
     ]
    }
   ],
   "source": [
    "dh['frequency'].fillna('Unknown', inplace=True)"
   ]
  },
  {
   "cell_type": "code",
   "execution_count": 8,
   "metadata": {},
   "outputs": [],
   "source": [
    "# 라벨인코딩 후 스케일링"
   ]
  },
  {
   "cell_type": "markdown",
   "metadata": {},
   "source": [
    "# 범주형데이터 라벨인코딩(범주형 데이터는 스케일 안해줄거임)"
   ]
  },
  {
   "cell_type": "code",
   "execution_count": 9,
   "metadata": {},
   "outputs": [],
   "source": [
    "# LabelEncoder 객체 생성\n",
    "label_encoder = LabelEncoder()\n",
    "\n",
    "# marital_status 열 라벨 인코딩\n",
    "dh['gender'] = label_encoder.fit_transform(dh['gender'])\n",
    "dh['insurance'] = label_encoder.fit_transform(dh['insurance'])\n",
    "dh['language'] = label_encoder.fit_transform(dh['language'])\n",
    "dh['marital_status'] = label_encoder.fit_transform(dh['marital_status'])\n",
    "dh['race'] = label_encoder.fit_transform(dh['race'])\n",
    "dh['medication'] = label_encoder.fit_transform(dh['medication'])\n",
    "dh['frequency'] = label_encoder.fit_transform(dh['frequency'])\n",
    "dh['drug'] = label_encoder.fit_transform(dh['drug'])"
   ]
  },
  {
   "cell_type": "markdown",
   "metadata": {},
   "source": [
    "# 스케일러 해줄 칼럼 : admit_age, "
   ]
  },
  {
   "cell_type": "code",
   "execution_count": 10,
   "metadata": {},
   "outputs": [],
   "source": [
    "# RobustScaler 인스턴스 생성\n",
    "scaler = RobustScaler()\n",
    "\n",
    "# 'feature1' 칼럼 스케일링\n",
    "dh['admit_age'] = scaler.fit_transform(dh[['admit_age']])"
   ]
  },
  {
   "cell_type": "code",
   "execution_count": 11,
   "metadata": {},
   "outputs": [
    {
     "data": {
      "text/plain": [
       "hospital_expire_flag\n",
       "0    84023796\n",
       "1     5175148\n",
       "Name: count, dtype: int64"
      ]
     },
     "execution_count": 11,
     "metadata": {},
     "output_type": "execute_result"
    }
   ],
   "source": [
    "dh['hospital_expire_flag'].value_counts()"
   ]
  },
  {
   "cell_type": "markdown",
   "metadata": {},
   "source": [
    "# under sampling"
   ]
  },
  {
   "cell_type": "code",
   "execution_count": 12,
   "metadata": {},
   "outputs": [],
   "source": [
    "from sklearn.utils import resample\n",
    "import cudf"
   ]
  },
  {
   "cell_type": "code",
   "execution_count": 13,
   "metadata": {},
   "outputs": [
    {
     "name": "stdout",
     "output_type": "stream",
     "text": [
      "hospital_expire_flag\n",
      "0    5175148\n",
      "1    5175148\n",
      "Name: count, dtype: int64\n"
     ]
    }
   ],
   "source": [
    "df = cudf.DataFrame(dh)\n",
    "\n",
    "df_majority = df[df['hospital_expire_flag'] == 0]\n",
    "df_minority = df[df['hospital_expire_flag'] == 1]\n",
    "\n",
    "# 다수 클래스 언더샘플링\n",
    "df_majority_downsampled = resample(df_majority,\n",
    "                                   replace=False,    # 샘플을 복원하지 않음\n",
    "                                   n_samples=len(df_minority),  # 소수 클래스와 동일한 수로 샘플링\n",
    "                                   random_state=123)  # 재현성을 위한 랜덤 시드\n",
    "\n",
    "# 소수 클래스와 결합\n",
    "df_dh = cudf.concat([df_majority_downsampled, df_minority])\n",
    "\n",
    "# 라벨 분포 확인\n",
    "print(df_dh['hospital_expire_flag'].value_counts())"
   ]
  },
  {
   "cell_type": "markdown",
   "metadata": {},
   "source": [
    "# 모델링"
   ]
  },
  {
   "cell_type": "code",
   "execution_count": null,
   "metadata": {},
   "outputs": [],
   "source": [
    "import cupy\n",
    "from cuml.ensemble import RandomForestClassifier\n",
    "\n",
    "from cuml.model_selection import train_test_split\n",
    "from cuml.model_selection import GridSearchCV\n",
    "from sklearn.metrics import accuracy_score"
   ]
  },
  {
   "cell_type": "markdown",
   "metadata": {},
   "source": [
    "## RandomForestClassifier"
   ]
  },
  {
   "cell_type": "code",
   "execution_count": null,
   "metadata": {},
   "outputs": [
    {
     "name": "stdout",
     "output_type": "stream",
     "text": [
      "random_forest 시작!\n",
      "Fitting 3 folds for each of 27 candidates, totalling 81 fits\n"
     ]
    }
   ],
   "source": [
    "X_train, X_test, y_train, y_test = train_test_split(df_dh, 'hospital_expire_flag', train_size = 0.8)\n",
    "\n",
    "X_train = X_train.to_cupy()\n",
    "X_test = X_test.to_cupy()\n",
    "y_train = y_train.to_cupy()\n",
    "y_test = y_test.to_cupy()\n",
    "\n",
    "# 모델 및 그리드 서치 설정\n",
    "cuml_randomForest = RandomForestClassifier(random_state=42, n_streams=1)\n",
    "\n",
    "param_grid = {\n",
    "    'n_estimators': [100, 200, 300],  # 정수형 값\n",
    "    'max_depth': [10, 20, 30],        # 정수형 값\n",
    "    'min_samples_split': [2, 5, 10]   # 정수형 값\n",
    "}\n",
    "randomForest_grid_search = GridSearchCV(\n",
    "    cuml_randomForest,\n",
    "    param_grid=param_grid,\n",
    "    scoring ='accuracy',\n",
    "    cv=3,\n",
    "    return_train_score=True,\n",
    "    verbose=2\n",
    ")\n",
    "\n",
    "\n",
    "#-------------------------------------------------------------\n",
    "### 랜덤포레스트\n",
    "# 모델 학습\n",
    "print(\"random_forest 시작!\")\n",
    "randomForest_grid_search.fit(X_train.get(), y_train.get())\n",
    "\n",
    "# 최적 모델로 예측\n",
    "randomForest_best_model = randomForest_grid_search.best_estimator_\n",
    "randomForest_y_pred = randomForest_best_model.predict(X_test)\n",
    "print(\"random_forest 끝!\")"
   ]
  },
  {
   "cell_type": "code",
   "execution_count": null,
   "metadata": {},
   "outputs": [],
   "source": [
    "# 정확도 계산\n",
    "accuracy = accuracy_score(y_test, randomForest_y_pred)\n",
    "print(\"Accuracy:\", accuracy)"
   ]
  }
 ],
 "metadata": {
  "kernelspec": {
   "display_name": "mach",
   "language": "python",
   "name": "mach"
  },
  "language_info": {
   "codemirror_mode": {
    "name": "ipython",
    "version": 3
   },
   "file_extension": ".py",
   "mimetype": "text/x-python",
   "name": "python",
   "nbconvert_exporter": "python",
   "pygments_lexer": "ipython3",
   "version": "3.9.12"
  },
  "toc": {
   "base_numbering": 1,
   "nav_menu": {},
   "number_sections": true,
   "sideBar": true,
   "skip_h1_title": false,
   "title_cell": "Table of Contents",
   "title_sidebar": "Contents",
   "toc_cell": false,
   "toc_position": {},
   "toc_section_display": true,
   "toc_window_display": false
  }
 },
 "nbformat": 4,
 "nbformat_minor": 2
}
